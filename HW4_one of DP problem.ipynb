{
 "cells": [
  {
   "cell_type": "code",
   "execution_count": 15,
   "metadata": {},
   "outputs": [
    {
     "name": "stdout",
     "output_type": "stream",
     "text": [
      "5\n",
      "삼각형 입력: \n",
      "7\n",
      "3 8\n",
      "8 1 0\n",
      "2 7 4 4\n",
      "4 5 2 6 5\n",
      "결과 값:  30\n",
      "수행 시간: 0.001037초\n"
     ]
    }
   ],
   "source": [
    "def one_of_dp_problem(H, triangle):\n",
    "    \n",
    "    for i in range(1, H):\n",
    "        for j in range(len(triangle[i])):\n",
    "            if j == 0: \n",
    "                triangle[i][j] = triangle[i-1][j] + triangle[i][j]\n",
    "            elif i == j:\n",
    "                triangle[i][j] = triangle[i-1][j-1] + triangle[i][j]\n",
    "            else:\n",
    "                triangle[i][j] = max(triangle[i-1][j-1] + triangle[i][j], triangle[i-1][j] + triangle[i][j])\n",
    "    \n",
    "    return max(triangle[H-1])\n",
    "\n",
    "if __name__ == '__main__':\n",
    "    H = int(input()) #\n",
    "    \n",
    "    print(\"삼각형 입력: \")\n",
    "    int_triangle = [] #삼각형 입력\n",
    "    for i in range(H):\n",
    "        input_ = input()\n",
    "        line = list(map(int, input_.split(' ')))\n",
    "        assert len(line) == i + 1\n",
    "        int_triangle.append(line)\n",
    "    \n",
    "    s = time.time()\n",
    "    print(\"결과 값: \", one_of_dp_problem(H, int_triangle))\n",
    "    e = time.time()\n",
    "    print(\"수행 시간: {0:3.6f}초\".format(e - s))\n",
    "    \n",
    "   "
   ]
  }
 ],
 "metadata": {
  "kernelspec": {
   "display_name": "Python 3",
   "language": "python",
   "name": "python3"
  },
  "language_info": {
   "codemirror_mode": {
    "name": "ipython",
    "version": 3
   },
   "file_extension": ".py",
   "mimetype": "text/x-python",
   "name": "python",
   "nbconvert_exporter": "python",
   "pygments_lexer": "ipython3",
   "version": "3.8.3"
  }
 },
 "nbformat": 4,
 "nbformat_minor": 4
}
