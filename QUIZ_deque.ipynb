{
 "cells": [
  {
   "cell_type": "code",
   "execution_count": 8,
   "metadata": {},
   "outputs": [],
   "source": [
    "# 나만의 deque 자료구조 만들기\n",
    "# Python list 관련 함수만을 활용할 것\n",
    "# mydeque = MyDeque(): 덱 생성\n",
    "# mydeque.func(\"push_front X\"): 정수 X를 덱의 앞에 넣는다.\n",
    "# mydeque.func(\"push_back X\"): 정수 X를 덱의 뒤에 넣는다.\n",
    "# mydeque.func(\"pop_front\"): 덱의 가장 앞에 있는 수를 빼고, 그 수를 출력한다. 만약, 덱에 들어있는 정수가 없는 경우에는 -1을 출력한다.\n",
    "# mydeque.func(\"pop_back\"): 덱의 가장 뒤에 있는 수를 빼고, 그 수를 출력한다. 만약, 덱에 들어있는 정수가 없는 경우에는 -1을 출력한다.\n",
    "# mydeque.func(\"size\"): 덱에 들어있는 정수의 개수를 출력한다.\n",
    "# mydeque.func(\"empty\"): 덱이 비어있으면 1을, 아니면 0을 출력한다.\n",
    "# mydeque.func(\"front\"): 덱의 가장 앞에 있는 정수를 출력한다. 만약 덱에 들어있는 정수가 없는 경우에는 -1을 출력한다.\n",
    "# mydeque.func(\"back\"): 덱의 가장 뒤에 있는 정수를 출력한다. 만약 덱에 들어있는 정수가 없는 경우에는 -1을 출력한다.\n",
    "# print(mydeque): 현재 덱 출력\n",
    "# mydeque: 현재 덱 출력\n",
    "# 현재 덱 출력 결과: e.g. 덱에 들어있는 값이 1, 2, 3 정수들일때 --> mydeque([1, 2, 3])\n",
    "# 본인이 만든 deque 모든 함수들의 사용예시 각자 제시할 것"
   ]
  },
  {
   "cell_type": "code",
   "execution_count": 16,
   "metadata": {},
   "outputs": [],
   "source": [
    "class MyDeque:\n",
    "    \n",
    "    def __init__(self):\n",
    "        self.mydeque = []\n",
    "    \n",
    "    def func(self, _str):\n",
    "        _str = _str.split(' ')\n",
    "        if _str[0] == 'push_front':\n",
    "            return self.push_front(_str[1])\n",
    "        elif _str[0] == 'push_back':\n",
    "            return self.push_back(_str[1])\n",
    "        elif _str[0] == 'pop_front':\n",
    "            return self.pop_front()\n",
    "        elif _str[0] == 'pop_back':\n",
    "            return self.pop_back()\n",
    "        elif _str[0] == 'size':\n",
    "            return self.size()\n",
    "        elif _str[0] == 'empty':\n",
    "            return self.empty()\n",
    "        elif _str[0] == 'front':\n",
    "            return self.front()\n",
    "        elif _str[0] == 'back':\n",
    "            return self.back()\n",
    "        else:\n",
    "            raise 'No Attribution'\n",
    "    \n",
    "    def push_front(self, _input):\n",
    "        self.mydeque.insert(0, _input)\n",
    "    \n",
    "    def push_back(self, _input):\n",
    "        self.mydeque.append(_input)\n",
    "    \n",
    "    def pop_front(self):\n",
    "        try:\n",
    "            return self.mydeque.pop(0)\n",
    "        except IndexError:\n",
    "            return -1\n",
    "    \n",
    "    def pop_back(self):\n",
    "        try:\n",
    "            return self.mydeque.pop(-1)\n",
    "        except IndexError:\n",
    "            return -1\n",
    "    \n",
    "    def size(self):\n",
    "        return len(self.mydeque)\n",
    "    \n",
    "    def empty(self):\n",
    "        if self.size() == 0:\n",
    "            return 1\n",
    "        else:\n",
    "            return 0\n",
    "    \n",
    "    def front(self):\n",
    "        try:\n",
    "            return self.mydeque[0]\n",
    "        except IndexError:\n",
    "            return -1\n",
    "    \n",
    "    def back(self):\n",
    "        try:\n",
    "            return self.mydeque[-1]\n",
    "        except IndexError:\n",
    "            return -1\n"
   ]
  },
  {
   "cell_type": "code",
   "execution_count": 17,
   "metadata": {},
   "outputs": [],
   "source": [
    "mydeque = MyDeque()"
   ]
  },
  {
   "cell_type": "code",
   "execution_count": 18,
   "metadata": {},
   "outputs": [
    {
     "name": "stdout",
     "output_type": "stream",
     "text": [
      "<__main__.MyDeque object at 0x00000228FC185730>\n"
     ]
    }
   ],
   "source": [
    "print(mydeque)"
   ]
  },
  {
   "cell_type": "code",
   "execution_count": 19,
   "metadata": {},
   "outputs": [],
   "source": [
    "mydeque.func(\"push_front 2\")\n",
    "mydeque.func(\"push_back 3\")\n",
    "mydeque.func(\"push_front 1\")"
   ]
  },
  {
   "cell_type": "code",
   "execution_count": 20,
   "metadata": {},
   "outputs": [
    {
     "data": {
      "text/plain": [
       "'1'"
      ]
     },
     "execution_count": 20,
     "metadata": {},
     "output_type": "execute_result"
    }
   ],
   "source": [
    "mydeque.func(\"pop_front\")"
   ]
  },
  {
   "cell_type": "code",
   "execution_count": 21,
   "metadata": {},
   "outputs": [
    {
     "data": {
      "text/plain": [
       "'3'"
      ]
     },
     "execution_count": 21,
     "metadata": {},
     "output_type": "execute_result"
    }
   ],
   "source": [
    "mydeque.func(\"pop_back\")"
   ]
  },
  {
   "cell_type": "code",
   "execution_count": 22,
   "metadata": {},
   "outputs": [
    {
     "data": {
      "text/plain": [
       "1"
      ]
     },
     "execution_count": 22,
     "metadata": {},
     "output_type": "execute_result"
    }
   ],
   "source": [
    "mydeque.func(\"size\")"
   ]
  },
  {
   "cell_type": "code",
   "execution_count": 23,
   "metadata": {},
   "outputs": [
    {
     "data": {
      "text/plain": [
       "0"
      ]
     },
     "execution_count": 23,
     "metadata": {},
     "output_type": "execute_result"
    }
   ],
   "source": [
    "mydeque.func(\"empty\")"
   ]
  },
  {
   "cell_type": "code",
   "execution_count": 24,
   "metadata": {},
   "outputs": [
    {
     "data": {
      "text/plain": [
       "'2'"
      ]
     },
     "execution_count": 24,
     "metadata": {},
     "output_type": "execute_result"
    }
   ],
   "source": [
    "mydeque.func(\"front\")"
   ]
  },
  {
   "cell_type": "code",
   "execution_count": 25,
   "metadata": {},
   "outputs": [
    {
     "data": {
      "text/plain": [
       "'2'"
      ]
     },
     "execution_count": 25,
     "metadata": {},
     "output_type": "execute_result"
    }
   ],
   "source": [
    "mydeque.func(\"back\")"
   ]
  },
  {
   "cell_type": "code",
   "execution_count": 26,
   "metadata": {},
   "outputs": [
    {
     "name": "stdout",
     "output_type": "stream",
     "text": [
      "<__main__.MyDeque object at 0x00000228FC185730>\n"
     ]
    }
   ],
   "source": [
    "print(mydeque)"
   ]
  },
  {
   "cell_type": "code",
   "execution_count": 27,
   "metadata": {},
   "outputs": [
    {
     "data": {
      "text/plain": [
       "<__main__.MyDeque at 0x228fc185730>"
      ]
     },
     "execution_count": 27,
     "metadata": {},
     "output_type": "execute_result"
    }
   ],
   "source": [
    "mydeque"
   ]
  }
 ],
 "metadata": {
  "kernelspec": {
   "display_name": "Python 3",
   "language": "python",
   "name": "python3"
  },
  "language_info": {
   "codemirror_mode": {
    "name": "ipython",
    "version": 3
   },
   "file_extension": ".py",
   "mimetype": "text/x-python",
   "name": "python",
   "nbconvert_exporter": "python",
   "pygments_lexer": "ipython3",
   "version": "3.8.3"
  }
 },
 "nbformat": 4,
 "nbformat_minor": 4
}
