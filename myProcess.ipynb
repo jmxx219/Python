{
 "cells": [
  {
   "cell_type": "code",
   "execution_count": 7,
   "metadata": {},
   "outputs": [
    {
     "name": "stdout",
     "output_type": "stream",
     "text": [
      "작업 시간 = 약 1s\n"
     ]
    }
   ],
   "source": [
    "import os\n",
    "import time\n",
    "from multiprocessing import Process\n",
    "\n",
    "def seconds_timer(end_time):\n",
    "    start_time = time.time()\n",
    "    while True:\n",
    "        time.sleep(0.001)\n",
    "        if time.time() - start_time >= end_time:\n",
    "            break\n",
    "    proc = os.getpid()\n",
    "    print('{0} seconds have elapsed by procedd id: {1}'.format(end_time, proc))\n",
    "    \n",
    "    \n",
    "if __name__ == '__main__':\n",
    "    end_time_list = [5, 5, 5]\n",
    "    procs = []\n",
    "    \n",
    "    startTime = int(time.time())\n",
    "    for end_time in end_time_list:\n",
    "        proc = Process(target=seconds_timer, args = (end_time,))\n",
    "        procs.append(proc)\n",
    "        proc.start()\n",
    "            \n",
    "    for proc in procs:\n",
    "        proc.join()\n",
    "        \n",
    "    endTime = int(time.time())\n",
    "    print(\"작업 시간 = 약 {0}s\".format(endTime - startTime))"
   ]
  },
  {
   "cell_type": "code",
   "execution_count": null,
   "metadata": {},
   "outputs": [],
   "source": []
  }
 ],
 "metadata": {
  "kernelspec": {
   "display_name": "Python 3",
   "language": "python",
   "name": "python3"
  },
  "language_info": {
   "codemirror_mode": {
    "name": "ipython",
    "version": 3
   },
   "file_extension": ".py",
   "mimetype": "text/x-python",
   "name": "python",
   "nbconvert_exporter": "python",
   "pygments_lexer": "ipython3",
   "version": "3.8.3"
  }
 },
 "nbformat": 4,
 "nbformat_minor": 4
}
