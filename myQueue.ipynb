{
 "cells": [
  {
   "cell_type": "code",
   "execution_count": 1,
   "metadata": {},
   "outputs": [],
   "source": [
    "from multiprocessing import Process, Queue\n",
    "import random\n",
    "\n",
    "def data_creator(max_data_number, q):\n",
    "    print('creating data!')\n",
    "    for _ in range(max_data_number):\n",
    "        data = random.random()\n",
    "        q.put(data)\n",
    "    q.put(None)\n",
    "    \n",
    "def data_consumer(q):\n",
    "    while True:\n",
    "        data = q.get()\n",
    "        if data is None:\n",
    "            break\n",
    "        print('consumed data is {}'.format(data))\n",
    "        \n",
    "if __name__ == '__main__':\n",
    "    q = Queue()\n",
    "    max_data_number = 10\n",
    "    process_creator = Process(target=data_creator, args = (max_data_number,q))\n",
    "    process_consumer = Process(target=data_consumer, args = (q,))\n",
    "    process_creator.start()\n",
    "    process_consumer.start()\n",
    "    \n",
    "    q.close()\n",
    "    q.join_thread()\n",
    "    \n",
    "    process_creator.join()\n",
    "    process_consumer.join()"
   ]
  },
  {
   "cell_type": "code",
   "execution_count": null,
   "metadata": {},
   "outputs": [],
   "source": []
  }
 ],
 "metadata": {
  "kernelspec": {
   "display_name": "Python 3",
   "language": "python",
   "name": "python3"
  },
  "language_info": {
   "codemirror_mode": {
    "name": "ipython",
    "version": 3
   },
   "file_extension": ".py",
   "mimetype": "text/x-python",
   "name": "python",
   "nbconvert_exporter": "python",
   "pygments_lexer": "ipython3",
   "version": "3.8.3"
  }
 },
 "nbformat": 4,
 "nbformat_minor": 4
}
