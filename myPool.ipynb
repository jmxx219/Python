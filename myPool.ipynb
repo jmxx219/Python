{
 "cells": [
  {
   "cell_type": "code",
   "execution_count": null,
   "metadata": {},
   "outputs": [],
   "source": [
    "from multiprocessing import Pool\n",
    "import time\n",
    "import os\n",
    "\n",
    "def my_func(work):\n",
    "    print(\"일(={0})에 Process ID = {1}\".format(work, os.getpid()))\n",
    "    time.sleep(1)\n",
    "    return work\n",
    "\n",
    "if __name__ == '__main__':\n",
    "    p = Pool(3) #프로세스의 갯수\n",
    "    startTime = int(time.time())\n",
    "    print(p.map(my_func, range(0,30)))\n",
    "    endTime = int(time.time())\n",
    "    print(\"작업 시간 = 약 {0}s\", (endTime - startTime))"
   ]
  },
  {
   "cell_type": "code",
   "execution_count": null,
   "metadata": {},
   "outputs": [],
   "source": []
  }
 ],
 "metadata": {
  "kernelspec": {
   "display_name": "Python 3",
   "language": "python",
   "name": "python3"
  },
  "language_info": {
   "codemirror_mode": {
    "name": "ipython",
    "version": 3
   },
   "file_extension": ".py",
   "mimetype": "text/x-python",
   "name": "python",
   "nbconvert_exporter": "python",
   "pygments_lexer": "ipython3",
   "version": "3.8.3"
  }
 },
 "nbformat": 4,
 "nbformat_minor": 4
}
