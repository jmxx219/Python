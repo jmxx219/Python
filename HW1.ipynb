{
 "cells": [
  {
   "cell_type": "code",
   "execution_count": 7,
   "metadata": {},
   "outputs": [
    {
     "name": "stdout",
     "output_type": "stream",
     "text": [
      "90\n"
     ]
    }
   ],
   "source": [
    "#Q1  1000 ~ 9999 까지(1000과 9999도 계산에 포함)의 네 자리 숫자 가운데에 '10'을 포함하는 숫자의 갯수는?\n",
    "\n",
    "# X10Y 에서 범위에 들어가는 1000의 자리수 X는 1~9, 1의 자리수 Y는 0~9가 들어갈 수 있다.\n",
    "\n",
    "cnt = 0;\n",
    "for i in range(1, 10):\n",
    "    for j in range(0, 10):\n",
    "        cnt+=1\n",
    "print(cnt);"
   ]
  },
  {
   "cell_type": "code",
   "execution_count": 14,
   "metadata": {},
   "outputs": [
    {
     "name": "stdout",
     "output_type": "stream",
     "text": [
      "108\n"
     ]
    }
   ],
   "source": [
    "#Q2  10 ~ 99999 까지(10과 99999도 계산에 포함)의 숫자 가운데에 20의 배수이며 '080'을 포함하는 숫자의 갯수는?\n",
    "\n",
    "#20의 배수는 십의 자리가 0, 2, 4, 6, 8이고 일의 자리가 0인 수이다. 또는 끝의 두 자리가 00이거나 20의 배수인 수를 말한다.\n",
    "#1080~99080\n",
    "cnt = 0\n",
    "for i in range(10, 99999):\n",
    "    s = str(i)\n",
    "    if '080' in s:\n",
    "        if i % 20 == 0:\n",
    "            cnt+=1\n",
    "print(cnt)"
   ]
  },
  {
   "cell_type": "code",
   "execution_count": 3,
   "metadata": {
    "scrolled": true
   },
   "outputs": [
    {
     "name": "stdout",
     "output_type": "stream",
     "text": [
      "\n",
      "4(Home)에서 18번(9:00~18:00) 움직여 0(Hospital)에 도착에 있을 확률:  0.16666666666666666\n"
     ]
    }
   ],
   "source": [
    "#Q3\n",
    "\n",
    "#0~8간의 이동 확률을 행렬로 나타냄(4행0열은 4에서 0으로 가는 확률을 나타냄)\n",
    "# 행렬을 17번 제곱하여 18번 이동의 확률을 구할 수 있음(a^2는 두 번 이동한 확률을 나타냄)\n",
    "a = [\n",
    "    [0, 1/2, 0, 1/2, 0, 0, 0, 0, 0],\n",
    "    [1/3, 0, 1/3, 0, 1/3, 0, 0, 0, 0],\n",
    "    [0, 1/2, 0, 0, 0, 1/2, 0, 0, 0],\n",
    "    [1/3, 0, 0, 0, 1/3, 0, 1/3, 0, 0],\n",
    "    [0, 1/4, 0, 1/4, 0, 1/4, 0, 1/4, 0],\n",
    "    [0, 0, 1/3, 0, 1/3, 0, 0, 0, 1/3],\n",
    "    [0, 0, 0, 1/2, 0, 0, 0, 1/2 , 0],\n",
    "    [0, 0, 0, 0, 1/3, 0, 1/3, 0, 1/3],\n",
    "    [0, 0, 0, 0, 0, 1/2, 0, 1/2, 0]\n",
    "]\n",
    "\n",
    "result = a[:]\n",
    "\n",
    "#행렬의 곱 계산\n",
    "def arrMul(tmp, a):\n",
    "    result = [[0 for col in range(9)] for row in range(9)]\n",
    "    for r in range(9):\n",
    "        for c in range(9):\n",
    "            result[r][c] = 0\n",
    "            for n in range(9):\n",
    "                result[r][c] += tmp[r][n] * a[n][c]\n",
    "    return result\n",
    "\n",
    "#17번제곱\n",
    "for i in range(0,17):\n",
    "    result = arrMul(result, a)\n",
    "    \n",
    "print(\"\\n4(Home)에서 18번(9:00~18:00) 움직여 0(Hospital)에 도착에 있을 확률: \", result[4][0])"
   ]
  },
  {
   "cell_type": "code",
   "execution_count": null,
   "metadata": {},
   "outputs": [],
   "source": []
  }
 ],
 "metadata": {
  "kernelspec": {
   "display_name": "Python 3",
   "language": "python",
   "name": "python3"
  },
  "language_info": {
   "codemirror_mode": {
    "name": "ipython",
    "version": 3
   },
   "file_extension": ".py",
   "mimetype": "text/x-python",
   "name": "python",
   "nbconvert_exporter": "python",
   "pygments_lexer": "ipython3",
   "version": "3.8.3"
  }
 },
 "nbformat": 4,
 "nbformat_minor": 4
}
