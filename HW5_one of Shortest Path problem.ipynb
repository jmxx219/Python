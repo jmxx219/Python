{
 "cells": [
  {
   "cell_type": "code",
   "execution_count": 2,
   "metadata": {},
   "outputs": [
    {
     "name": "stdout",
     "output_type": "stream",
     "text": [
      "5 6\n",
      "[[0, inf, inf, inf, inf], [inf, 0, inf, inf, inf], [inf, inf, 0, inf, inf], [inf, inf, inf, 0, inf], [inf, inf, inf, inf, 0]]\n",
      "\n",
      "5 1 1\n",
      "1 2 2\n",
      "1 3 3\n",
      "2 3 4\n",
      "2 4 5\n",
      "3 4 6\n",
      "[[0, 2, 3, inf, inf], [inf, 0, 4, 5, inf], [inf, inf, 0, 6, inf], [inf, inf, inf, 0, inf], [1, inf, inf, inf, 0]]\n",
      "\n",
      "수행 시간: 0.001001초\n",
      "결과 값: \n",
      "0\n",
      "2\n",
      "3\n",
      "7\n",
      "INF\n"
     ]
    }
   ],
   "source": [
    "import time\n",
    "    \n",
    "def get_distance(start, distance_map, V):\n",
    "    start = start - 1\n",
    "    visit = [False for v in range(V)]\n",
    "    visit[start] = True\n",
    "    start_distance = [distance_map[start][v] for v in range(V)]\n",
    "    start_distance[start] = 0\n",
    "    \n",
    "    current = 0\n",
    "    min_ = 1000000\n",
    "    \n",
    "    for i in range(V):\n",
    "        for k in range(V):\n",
    "            if visit[k] == False and start_distance[k] < min_:\n",
    "                min_ = start_distance[k]\n",
    "                current = k\n",
    "        visit[current] = True  \n",
    "        for j in range(V):\n",
    "            if visit[j]==False:\n",
    "                if start_distance[current] + distance_map[current][j] < start_distance[j]:\n",
    "                    start_distance[j] = start_distance[current] + distance_map[current][j]\n",
    "                    \n",
    "    return start_distance\n",
    "    \n",
    "if __name__ == '__main__':\n",
    "    inputs = list(map(int, input().split(' ')))\n",
    "    assert len(inputs) == 2\n",
    "    # V = 정점(Vertex), E = 간선(Edge)\n",
    "    V, E = inputs\n",
    "\n",
    "    # 모든 정점으로부터 모든 정점까지의 가중치를 담은 2차행렬\n",
    "    distance_map = [[float('inf') if i != j else 0 for i in range(V)] for j in range(V)]\n",
    "    print(distance_map)\n",
    "    print('')\n",
    "    \n",
    "    for i in range(E):\n",
    "        inputs = list(map(int, input().split(' ')))\n",
    "        assert len(inputs) == 3\n",
    "        u, v, w = inputs\n",
    "        distance_map[u-1][v-1] = w\n",
    "    print(distance_map)\n",
    "    print('') \n",
    "    \n",
    "    s = time.time()\n",
    "    result = get_distance(1, distance_map, V)\n",
    "    e = time.time()\n",
    "    print(\"수행 시간: {0:3.6f}초\".format(e - s))\n",
    "    print(\"결과 값: \")\n",
    "    for dist in result:\n",
    "        if dist == float('inf'):\n",
    "            print('INF')\n",
    "        else:\n",
    "            print(dist)"
   ]
  }
 ],
 "metadata": {
  "kernelspec": {
   "display_name": "Python 3",
   "language": "python",
   "name": "python3"
  },
  "language_info": {
   "codemirror_mode": {
    "name": "ipython",
    "version": 3
   },
   "file_extension": ".py",
   "mimetype": "text/x-python",
   "name": "python",
   "nbconvert_exporter": "python",
   "pygments_lexer": "ipython3",
   "version": "3.8.3"
  }
 },
 "nbformat": 4,
 "nbformat_minor": 4
}
